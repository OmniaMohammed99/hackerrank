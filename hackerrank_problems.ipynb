{
  "nbformat": 4,
  "nbformat_minor": 0,
  "metadata": {
    "colab": {
      "provenance": [],
      "toc_visible": true
    },
    "kernelspec": {
      "name": "python3",
      "display_name": "Python 3"
    },
    "language_info": {
      "name": "python"
    }
  },
  "cells": [
    {
      "cell_type": "markdown",
      "source": [
        "1)print()"
      ],
      "metadata": {
        "id": "nbFqehaxz5YY"
      }
    },
    {
      "cell_type": "code",
      "execution_count": 4,
      "metadata": {
        "colab": {
          "base_uri": "https://localhost:8080/"
        },
        "id": "LT2s62fcxyLl",
        "outputId": "7acc7bb5-fd7a-4c57-be9f-b4517235e85e"
      },
      "outputs": [
        {
          "output_type": "stream",
          "name": "stdout",
          "text": [
            "Hello, World!\n"
          ]
        }
      ],
      "source": [
        "print(\"Hello, World!\")"
      ]
    },
    {
      "cell_type": "markdown",
      "source": [
        "2) If_else statement\n"
      ],
      "metadata": {
        "id": "qMAXHk4Syc7I"
      }
    },
    {
      "cell_type": "code",
      "source": [
        "if __name__ == '__main__':\n",
        "    n = int(input().strip())\n",
        "if n % 2!= 0:\n",
        "    print('Weird')\n",
        "elif n%2 ==0 and 2<=n<=5:\n",
        "    print('Not Weird')\n",
        "elif n%2 ==0 and 6<=n<=20:\n",
        "    print('Weird')\n",
        "elif n%2==0 and n >20 :\n",
        "    print('Not Weird')"
      ],
      "metadata": {
        "id": "nN_BrCBIyQOo"
      },
      "execution_count": null,
      "outputs": []
    },
    {
      "cell_type": "markdown",
      "source": [
        "3)Arithmetic Operators"
      ],
      "metadata": {
        "id": "lw2oLKDrzdbH"
      }
    },
    {
      "cell_type": "code",
      "source": [
        "a = int(input())\n",
        "b = int(input())\n",
        "print(a+b)\n",
        "print(a-b)\n",
        "print(a*b)"
      ],
      "metadata": {
        "id": "6W9_NccT0Wnj"
      },
      "execution_count": null,
      "outputs": []
    },
    {
      "cell_type": "markdown",
      "source": [
        "4)Python Division"
      ],
      "metadata": {
        "id": "4XBcv0Uc1V0U"
      }
    },
    {
      "cell_type": "code",
      "source": [
        "a = int(input())\n",
        "b = int(input())\n",
        "div1 = int(a / b)\n",
        "print(div1)\n",
        "div2 = float(a / b)\n",
        "print(div2)\n"
      ],
      "metadata": {
        "id": "DaeNz4sY1WkP"
      },
      "execution_count": null,
      "outputs": []
    },
    {
      "cell_type": "markdown",
      "source": [
        "5)LOOPS"
      ],
      "metadata": {
        "id": "3JfXXQue11Km"
      }
    },
    {
      "cell_type": "code",
      "source": [
        "n = int(input())\n",
        "for i in range(n):\n",
        "    print(i*i)"
      ],
      "metadata": {
        "id": "4VW7E0b010x6"
      },
      "execution_count": null,
      "outputs": []
    },
    {
      "cell_type": "markdown",
      "source": [
        "6)write a function"
      ],
      "metadata": {
        "id": "Zg6aOywY2JQP"
      }
    },
    {
      "cell_type": "code",
      "source": [
        "def is_leap(year):\n",
        "    leap = False\n",
        "\n",
        "    if year % 4 == 0 and year % 100 != 0 or year % 400 == 0 :\n",
        "        return True\n",
        "    else :\n",
        "        return False\n",
        "    return leap\n",
        "\n",
        "year = int(input())\n",
        "print(is_leap(year))"
      ],
      "metadata": {
        "colab": {
          "base_uri": "https://localhost:8080/"
        },
        "id": "n8rWmRW92Jqb",
        "outputId": "e69d0f9c-4500-4437-e43a-44c42b8e70dd"
      },
      "execution_count": 2,
      "outputs": [
        {
          "output_type": "stream",
          "name": "stdout",
          "text": [
            "1985\n",
            "False\n"
          ]
        }
      ]
    },
    {
      "cell_type": "markdown",
      "source": [
        "7)print a function"
      ],
      "metadata": {
        "id": "GeuJQKyu2rcI"
      }
    },
    {
      "cell_type": "code",
      "source": [
        "n = int(input())\n",
        "\n",
        "for i in range (1 , n+1) :\n",
        "     print(i,end='')"
      ],
      "metadata": {
        "id": "QnonTJP12rIy"
      },
      "execution_count": null,
      "outputs": []
    },
    {
      "cell_type": "markdown",
      "source": [
        "8) list comprehensions"
      ],
      "metadata": {
        "id": "5P3D99_i3EnO"
      }
    },
    {
      "cell_type": "code",
      "source": [
        "x = int(input())\n",
        "y = int(input())\n",
        "z = int(input())\n",
        "n = int(input())\n",
        "array = []\n",
        "for i in range(x+1):\n",
        "    for j in range(y+1):\n",
        "      for k in range(z+1):\n",
        "        if (i+j+k != n):\n",
        "             array.append([i,j,k])\n",
        "\n",
        "print(array)"
      ],
      "metadata": {
        "id": "AkaY3wD-3ES2"
      },
      "execution_count": null,
      "outputs": []
    },
    {
      "cell_type": "markdown",
      "source": [
        "9) runner-up score\n"
      ],
      "metadata": {
        "id": "kbcliQ4T3Xxj"
      }
    },
    {
      "cell_type": "code",
      "source": [
        "n = int(input())\n",
        "arr = map(int, input().split())\n",
        "li = list(arr)\n",
        "x =sorted(li)\n",
        "max_v = max(x)\n",
        "li.remove(max(x))\n",
        "li.remove(max(x))\n",
        "print(li[-1])"
      ],
      "metadata": {
        "id": "4CNHnZBx3Xhx"
      },
      "execution_count": null,
      "outputs": []
    },
    {
      "cell_type": "markdown",
      "source": [
        "10)finding the percentage\n"
      ],
      "metadata": {
        "id": "EzsDP2SM3-cb"
      }
    },
    {
      "cell_type": "code",
      "source": [
        "if __name__ == '__main__':\n",
        "    n = int(input())\n",
        "    student_marks = {}\n",
        "for i in range(n):\n",
        "        name, *line = input().split()\n",
        "        scores = list(map(float, line))\n",
        "        student_marks[name] = scores\n",
        "query_name = input()\n",
        "if query_name in student_marks:\n",
        "    results =sum(student_marks[query_name]) / len(student_marks[query_name])\n",
        "print(\"{:.2f}\".format(results))"
      ],
      "metadata": {
        "id": "-coTnWg53-FI"
      },
      "execution_count": null,
      "outputs": []
    },
    {
      "cell_type": "markdown",
      "source": [
        "11)nested lists\n"
      ],
      "metadata": {
        "id": "JFwOzDav4RLS"
      }
    },
    {
      "cell_type": "code",
      "source": [
        "if __name__ == '__main__':\n",
        "    students_scores =[]\n",
        "for _ in range(int(input())):\n",
        "        name = input()\n",
        "        score = float(input())\n",
        "        students_scores.append([name, score])\n",
        "find_score =[x[1]for x in students_scores]\n",
        "sort_score = sorted(set(find_score))\n",
        "find_name = [y[0] for y in students_scores if (sort_score[1] == y[1])]\n",
        "sort_name = sorted(find_name)\n",
        "for z in sort_name:\n",
        "    print(z)"
      ],
      "metadata": {
        "id": "wvdvwF8u4Qzu"
      },
      "execution_count": null,
      "outputs": []
    }
  ]
}